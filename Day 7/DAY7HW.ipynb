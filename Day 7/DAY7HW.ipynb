{
  "cells": [
    {
      "cell_type": "code",
      "execution_count": null,
      "metadata": {
        "id": "z1rhI4xWkyCU"
      },
      "outputs": [],
      "source": [
        "import tensorflow as tf\n",
        "from tensorflow.keras import layers, models\n",
        "import matplotlib.pyplot as plt\n",
        "import numpy as np\n",
        "from tensorflow.keras.callbacks import ReduceLROnPlateau, EarlyStopping\n"
      ]
    },
    {
      "cell_type": "code",
      "execution_count": null,
      "metadata": {
        "colab": {
          "base_uri": "https://localhost:8080/"
        },
        "id": "AgQlwyzElZhe",
        "outputId": "1e74a64b-9958-4124-ca02-ae6a92c1eba0"
      },
      "outputs": [
        {
          "name": "stdout",
          "output_type": "stream",
          "text": [
            "Downloading data from https://storage.googleapis.com/tensorflow/tf-keras-datasets/mnist.npz\n",
            "\u001b[1m11490434/11490434\u001b[0m \u001b[32m━━━━━━━━━━━━━━━━━━━━\u001b[0m\u001b[37m\u001b[0m \u001b[1m0s\u001b[0m 0us/step\n"
          ]
        }
      ],
      "source": [
        "# Load MNIST digit dataset\n",
        "(x_train, y_train), (x_test, y_test) = tf.keras.datasets.mnist.load_data()\n",
        "\n",
        "# Normalize and reshape\n",
        "x_train = x_train.astype(\"float32\") / 255.0\n",
        "x_test = x_test.astype(\"float32\") / 255.0\n"
      ]
    },
    {
      "cell_type": "code",
      "execution_count": null,
      "metadata": {
        "id": "KNo_4pgPleh7"
      },
      "outputs": [],
      "source": [
        "# Flatten input for DNN\n",
        "x_train_dnn = x_train.reshape(-1, 784)\n",
        "x_test_dnn = x_test.reshape(-1, 784)\n",
        "\n",
        "def create_dnn_model():\n",
        "    initializer = tf.keras.initializers.HeNormal()\n",
        "    model = models.Sequential([\n",
        "        layers.Input(shape=(784,)),\n",
        "        layers.Dense(512, kernel_initializer=initializer),\n",
        "        layers.BatchNormalization(),\n",
        "        layers.Activation('relu'),\n",
        "        layers.Dropout(0.3),\n",
        "        layers.Dense(256, kernel_initializer=initializer),\n",
        "        layers.BatchNormalization(),\n",
        "        layers.Activation('relu'),\n",
        "        layers.Dropout(0.3),\n",
        "        layers.Dense(10, activation='softmax')\n",
        "    ])\n",
        "    return model\n"
      ]
    },
    {
      "cell_type": "code",
      "execution_count": null,
      "metadata": {
        "colab": {
          "base_uri": "https://localhost:8080/"
        },
        "id": "gULDeFGGljTi",
        "outputId": "01e798f6-4d3f-42e1-f304-ed6c8283aaa9"
      },
      "outputs": [
        {
          "name": "stdout",
          "output_type": "stream",
          "text": [
            "Epoch 1/50\n",
            "375/375 - 10s - 26ms/step - accuracy: 0.9043 - loss: 0.3132 - val_accuracy: 0.9579 - val_loss: 0.1344 - learning_rate: 1.0000e-03\n",
            "Epoch 2/50\n",
            "375/375 - 9s - 23ms/step - accuracy: 0.9569 - loss: 0.1439 - val_accuracy: 0.9667 - val_loss: 0.1108 - learning_rate: 1.0000e-03\n",
            "Epoch 3/50\n",
            "375/375 - 7s - 19ms/step - accuracy: 0.9667 - loss: 0.1065 - val_accuracy: 0.9734 - val_loss: 0.0871 - learning_rate: 1.0000e-03\n",
            "Epoch 4/50\n",
            "375/375 - 10s - 27ms/step - accuracy: 0.9731 - loss: 0.0848 - val_accuracy: 0.9762 - val_loss: 0.0803 - learning_rate: 1.0000e-03\n",
            "Epoch 5/50\n",
            "375/375 - 9s - 24ms/step - accuracy: 0.9765 - loss: 0.0727 - val_accuracy: 0.9783 - val_loss: 0.0724 - learning_rate: 1.0000e-03\n",
            "Epoch 6/50\n",
            "375/375 - 7s - 18ms/step - accuracy: 0.9796 - loss: 0.0630 - val_accuracy: 0.9787 - val_loss: 0.0754 - learning_rate: 1.0000e-03\n",
            "Epoch 7/50\n",
            "375/375 - 10s - 28ms/step - accuracy: 0.9817 - loss: 0.0554 - val_accuracy: 0.9796 - val_loss: 0.0721 - learning_rate: 1.0000e-03\n",
            "Epoch 8/50\n",
            "375/375 - 11s - 28ms/step - accuracy: 0.9830 - loss: 0.0501 - val_accuracy: 0.9788 - val_loss: 0.0730 - learning_rate: 1.0000e-03\n",
            "Epoch 9/50\n",
            "375/375 - 9s - 24ms/step - accuracy: 0.9853 - loss: 0.0454 - val_accuracy: 0.9807 - val_loss: 0.0723 - learning_rate: 1.0000e-03\n",
            "Epoch 10/50\n",
            "375/375 - 10s - 27ms/step - accuracy: 0.9868 - loss: 0.0390 - val_accuracy: 0.9818 - val_loss: 0.0662 - learning_rate: 1.0000e-03\n",
            "Epoch 11/50\n",
            "375/375 - 10s - 28ms/step - accuracy: 0.9884 - loss: 0.0348 - val_accuracy: 0.9799 - val_loss: 0.0734 - learning_rate: 1.0000e-03\n",
            "Epoch 12/50\n",
            "375/375 - 11s - 29ms/step - accuracy: 0.9881 - loss: 0.0354 - val_accuracy: 0.9810 - val_loss: 0.0753 - learning_rate: 1.0000e-03\n",
            "Epoch 13/50\n",
            "375/375 - 6s - 15ms/step - accuracy: 0.9894 - loss: 0.0315 - val_accuracy: 0.9833 - val_loss: 0.0682 - learning_rate: 1.0000e-03\n",
            "Epoch 14/50\n",
            "375/375 - 11s - 28ms/step - accuracy: 0.9908 - loss: 0.0277 - val_accuracy: 0.9813 - val_loss: 0.0734 - learning_rate: 1.0000e-03\n",
            "Epoch 15/50\n",
            "375/375 - 7s - 19ms/step - accuracy: 0.9900 - loss: 0.0299 - val_accuracy: 0.9814 - val_loss: 0.0759 - learning_rate: 1.0000e-03\n"
          ]
        }
      ],
      "source": [
        "dnn_model = create_dnn_model()\n",
        "dnn_model.compile(optimizer='adam',\n",
        "                  loss='sparse_categorical_crossentropy',\n",
        "                  metrics=['accuracy'])\n",
        "\n",
        "callbacks = [\n",
        "    ReduceLROnPlateau(monitor='val_accuracy', factor=0.5, patience=3, verbose=1),\n",
        "    EarlyStopping(monitor='val_loss', patience=5, restore_best_weights=True)\n",
        "]\n",
        "\n",
        "history_dnn = dnn_model.fit(x_train_dnn, y_train,\n",
        "                            validation_split=0.2,\n",
        "                            epochs=50,\n",
        "                            batch_size=128,\n",
        "                            callbacks=callbacks,\n",
        "                            verbose=2)\n"
      ]
    },
    {
      "cell_type": "code",
      "execution_count": null,
      "metadata": {
        "colab": {
          "base_uri": "https://localhost:8080/"
        },
        "id": "lLxX7i1jlljC",
        "outputId": "9a07b4e5-48f8-4a33-915e-6036518f11b3"
      },
      "outputs": [
        {
          "name": "stdout",
          "output_type": "stream",
          "text": [
            "DNN Test Accuracy: 0.9818\n"
          ]
        }
      ],
      "source": [
        "test_loss_dnn, test_acc_dnn = dnn_model.evaluate(x_test_dnn, y_test, verbose=0)\n",
        "print(f\"DNN Test Accuracy: {test_acc_dnn:.4f}\")\n"
      ]
    },
    {
      "cell_type": "code",
      "execution_count": null,
      "metadata": {
        "id": "ZrNJxbTmmdbJ"
      },
      "outputs": [],
      "source": [
        "# Reshape input for CNN\n",
        "x_train_cnn = x_train.reshape(-1, 28, 28, 1)\n",
        "x_test_cnn = x_test.reshape(-1, 28, 28, 1)\n",
        "\n",
        "def create_cnn_model():\n",
        "    model = models.Sequential([\n",
        "        layers.Conv2D(32, (3,3), padding='same', activation='relu', input_shape=(28,28,1)),\n",
        "        layers.BatchNormalization(),\n",
        "        layers.Conv2D(32, (3,3), activation='relu'),\n",
        "        layers.BatchNormalization(),\n",
        "        layers.MaxPooling2D(),\n",
        "        layers.Dropout(0.25),\n",
        "\n",
        "        layers.Conv2D(64, (3,3), padding='same', activation='relu'),\n",
        "        layers.BatchNormalization(),\n",
        "        layers.Conv2D(64, (3,3), activation='relu'),\n",
        "        layers.BatchNormalization(),\n",
        "        layers.MaxPooling2D(),\n",
        "        layers.Dropout(0.25),\n",
        "\n",
        "        layers.Flatten(),\n",
        "        layers.Dense(256, activation='relu'),\n",
        "        layers.BatchNormalization(),\n",
        "        layers.Dropout(0.5),\n",
        "        layers.Dense(10, activation='softmax')\n",
        "    ])\n",
        "    return model\n"
      ]
    },
    {
      "cell_type": "code",
      "execution_count": null,
      "metadata": {
        "colab": {
          "background_save": true,
          "base_uri": "https://localhost:8080/"
        },
        "id": "wgoEwtuWmieL",
        "outputId": "6a685f1a-882b-4a1e-d45f-849c27aa36bf"
      },
      "outputs": [
        {
          "name": "stderr",
          "output_type": "stream",
          "text": [
            "/usr/local/lib/python3.11/dist-packages/keras/src/layers/convolutional/base_conv.py:107: UserWarning: Do not pass an `input_shape`/`input_dim` argument to a layer. When using Sequential models, prefer using an `Input(shape)` object as the first layer in the model instead.\n",
            "  super().__init__(activity_regularizer=activity_regularizer, **kwargs)\n"
          ]
        },
        {
          "name": "stdout",
          "output_type": "stream",
          "text": [
            "Epoch 1/50\n",
            "375/375 - 185s - 493ms/step - accuracy: 0.9411 - loss: 0.1963 - val_accuracy: 0.1164 - val_loss: 5.9283 - learning_rate: 1.0000e-03\n",
            "Epoch 2/50\n",
            "375/375 - 200s - 534ms/step - accuracy: 0.9797 - loss: 0.0656 - val_accuracy: 0.9820 - val_loss: 0.0612 - learning_rate: 1.0000e-03\n",
            "Epoch 3/50\n",
            "375/375 - 202s - 539ms/step - accuracy: 0.9848 - loss: 0.0485 - val_accuracy: 0.9909 - val_loss: 0.0323 - learning_rate: 1.0000e-03\n",
            "Epoch 4/50\n",
            "375/375 - 201s - 536ms/step - accuracy: 0.9873 - loss: 0.0403 - val_accuracy: 0.9902 - val_loss: 0.0330 - learning_rate: 1.0000e-03\n",
            "Epoch 5/50\n",
            "375/375 - 177s - 471ms/step - accuracy: 0.9893 - loss: 0.0348 - val_accuracy: 0.9893 - val_loss: 0.0382 - learning_rate: 1.0000e-03\n",
            "Epoch 6/50\n",
            "375/375 - 202s - 539ms/step - accuracy: 0.9899 - loss: 0.0306 - val_accuracy: 0.9913 - val_loss: 0.0295 - learning_rate: 1.0000e-03\n",
            "Epoch 7/50\n",
            "375/375 - 175s - 465ms/step - accuracy: 0.9912 - loss: 0.0283 - val_accuracy: 0.9908 - val_loss: 0.0311 - learning_rate: 1.0000e-03\n",
            "Epoch 8/50\n",
            "375/375 - 203s - 541ms/step - accuracy: 0.9915 - loss: 0.0262 - val_accuracy: 0.9930 - val_loss: 0.0237 - learning_rate: 1.0000e-03\n",
            "Epoch 9/50\n",
            "375/375 - 201s - 537ms/step - accuracy: 0.9919 - loss: 0.0254 - val_accuracy: 0.9919 - val_loss: 0.0290 - learning_rate: 1.0000e-03\n",
            "Epoch 10/50\n",
            "375/375 - 179s - 476ms/step - accuracy: 0.9929 - loss: 0.0216 - val_accuracy: 0.9908 - val_loss: 0.0312 - learning_rate: 1.0000e-03\n",
            "Epoch 11/50\n",
            "\n",
            "Epoch 11: ReduceLROnPlateau reducing learning rate to 0.0005000000237487257.\n",
            "375/375 - 199s - 531ms/step - accuracy: 0.9940 - loss: 0.0198 - val_accuracy: 0.9928 - val_loss: 0.0258 - learning_rate: 1.0000e-03\n",
            "Epoch 12/50\n",
            "375/375 - 202s - 539ms/step - accuracy: 0.9954 - loss: 0.0144 - val_accuracy: 0.9945 - val_loss: 0.0199 - learning_rate: 5.0000e-04\n",
            "Epoch 13/50\n",
            "375/375 - 178s - 476ms/step - accuracy: 0.9967 - loss: 0.0101 - val_accuracy: 0.9942 - val_loss: 0.0215 - learning_rate: 5.0000e-04\n",
            "Epoch 14/50\n",
            "375/375 - 198s - 529ms/step - accuracy: 0.9961 - loss: 0.0119 - val_accuracy: 0.9939 - val_loss: 0.0220 - learning_rate: 5.0000e-04\n",
            "Epoch 15/50\n",
            "\n",
            "Epoch 15: ReduceLROnPlateau reducing learning rate to 0.0002500000118743628.\n",
            "375/375 - 202s - 538ms/step - accuracy: 0.9970 - loss: 0.0094 - val_accuracy: 0.9940 - val_loss: 0.0216 - learning_rate: 5.0000e-04\n",
            "Epoch 16/50\n",
            "375/375 - 203s - 540ms/step - accuracy: 0.9976 - loss: 0.0076 - val_accuracy: 0.9952 - val_loss: 0.0195 - learning_rate: 2.5000e-04\n",
            "Epoch 17/50\n",
            "375/375 - 199s - 531ms/step - accuracy: 0.9979 - loss: 0.0066 - val_accuracy: 0.9952 - val_loss: 0.0201 - learning_rate: 2.5000e-04\n",
            "Epoch 18/50\n",
            "375/375 - 205s - 546ms/step - accuracy: 0.9980 - loss: 0.0061 - val_accuracy: 0.9947 - val_loss: 0.0202 - learning_rate: 2.5000e-04\n",
            "Epoch 19/50\n",
            "\n",
            "Epoch 19: ReduceLROnPlateau reducing learning rate to 0.0001250000059371814.\n",
            "375/375 - 202s - 538ms/step - accuracy: 0.9977 - loss: 0.0071 - val_accuracy: 0.9942 - val_loss: 0.0215 - learning_rate: 2.5000e-04\n",
            "Epoch 20/50\n",
            "375/375 - 200s - 533ms/step - accuracy: 0.9984 - loss: 0.0049 - val_accuracy: 0.9951 - val_loss: 0.0193 - learning_rate: 1.2500e-04\n",
            "Epoch 21/50\n",
            "375/375 - 177s - 473ms/step - accuracy: 0.9985 - loss: 0.0045 - val_accuracy: 0.9957 - val_loss: 0.0186 - learning_rate: 1.2500e-04\n",
            "Epoch 22/50\n",
            "375/375 - 179s - 478ms/step - accuracy: 0.9988 - loss: 0.0039 - val_accuracy: 0.9951 - val_loss: 0.0186 - learning_rate: 1.2500e-04\n",
            "Epoch 23/50\n",
            "375/375 - 201s - 537ms/step - accuracy: 0.9987 - loss: 0.0042 - val_accuracy: 0.9954 - val_loss: 0.0191 - learning_rate: 1.2500e-04\n",
            "Epoch 24/50\n",
            "\n",
            "Epoch 24: ReduceLROnPlateau reducing learning rate to 6.25000029685907e-05.\n",
            "375/375 - 211s - 562ms/step - accuracy: 0.9990 - loss: 0.0036 - val_accuracy: 0.9952 - val_loss: 0.0196 - learning_rate: 1.2500e-04\n",
            "Epoch 25/50\n",
            "375/375 - 189s - 503ms/step - accuracy: 0.9990 - loss: 0.0034 - val_accuracy: 0.9953 - val_loss: 0.0194 - learning_rate: 6.2500e-05\n",
            "Epoch 26/50\n",
            "375/375 - 203s - 543ms/step - accuracy: 0.9990 - loss: 0.0033 - val_accuracy: 0.9952 - val_loss: 0.0199 - learning_rate: 6.2500e-05\n",
            "Epoch 27/50\n",
            "\n",
            "Epoch 27: ReduceLROnPlateau reducing learning rate to 3.125000148429535e-05.\n",
            "375/375 - 177s - 472ms/step - accuracy: 0.9992 - loss: 0.0030 - val_accuracy: 0.9949 - val_loss: 0.0196 - learning_rate: 6.2500e-05\n"
          ]
        }
      ],
      "source": [
        "cnn_model = create_cnn_model()\n",
        "cnn_model.compile(optimizer='adam',\n",
        "                  loss='sparse_categorical_crossentropy',\n",
        "                  metrics=['accuracy'])\n",
        "\n",
        "history_cnn = cnn_model.fit(x_train_cnn, y_train,\n",
        "                            validation_split=0.2,\n",
        "                            epochs=50,\n",
        "                            batch_size=128,\n",
        "                            callbacks=callbacks,\n",
        "                            verbose=2)\n"
      ]
    },
    {
      "cell_type": "code",
      "source": [
        "test_loss_cnn, test_acc_cnn = cnn_model.evaluate(x_test_cnn, y_test, verbose=0)\n",
        "print(f\"CNN Test Accuracy: {test_acc_cnn:.4f}\")\n"
      ],
      "metadata": {
        "colab": {
          "base_uri": "https://localhost:8080/"
        },
        "id": "b-Kry3DP9dNg",
        "outputId": "12c93757-9c74-4b6b-e101-b1060eed1eab"
      },
      "execution_count": 8,
      "outputs": [
        {
          "output_type": "stream",
          "name": "stdout",
          "text": [
            "CNN Test Accuracy: 0.9958\n"
          ]
        }
      ]
    },
    {
      "cell_type": "code",
      "source": [
        "def plot_history(hist, label):\n",
        "    plt.plot(hist.history['val_accuracy'], label=f'{label} Val Acc')\n",
        "    plt.plot(hist.history['accuracy'], linestyle='--', label=f'{label} Train Acc')\n",
        "\n",
        "plt.figure(figsize=(10, 5))\n",
        "plot_history(history_dnn, 'DNN')\n",
        "plot_history(history_cnn, 'CNN')\n",
        "plt.title(\"DNN vs CNN Accuracy\")\n",
        "plt.xlabel(\"Epochs\")\n",
        "plt.ylabel(\"Accuracy\")\n",
        "plt.legend()\n",
        "plt.grid(True)\n",
        "plt.show()\n"
      ],
      "metadata": {
        "colab": {
          "base_uri": "https://localhost:8080/",
          "height": 487
        },
        "id": "mXu2GchB9dKK",
        "outputId": "7dada520-dc58-4e10-aa73-4b6884fbc9f7"
      },
      "execution_count": 12,
      "outputs": [
        {
          "output_type": "display_data",
          "data": {
            "text/plain": [
              "<Figure size 1000x500 with 1 Axes>"
            ],
            "image/png": "[encoded data removed]"
          },
          "metadata": {}
        }
      ]
    },
    {
      "cell_type": "markdown",
      "source": [
        "Maximum Achievable Accuracy on MNIST Dataset Using DNN and CNN\n"
      ],
      "metadata": {
        "id": "ESBooOt6-SQX"
      }
    },
    {
      "cell_type": "markdown",
      "source": [
        "Dataset Used\n",
        "MNIST Digits – 70,000 grayscale images of handwritten digits (0–9), each of size 28x28 pixels. The dataset is split into 60,000 training and 10,000 test images.\n",
        "\n"
      ],
      "metadata": {
        "id": "Q_DW0_T9-blA"
      }
    },
    {
      "cell_type": "markdown",
      "source": [
        "To explore, implement, and evaluate:\n",
        "\n",
        "A Deep Neural Network (DNN)\n",
        "\n",
        "A Convolutional Neural Network (CNN)\n",
        "\n",
        "The goal is to compare their architectures, regularization strategies, training behavior, and ultimately their performance in achieving the highest possible accuracy on the MNIST dataset.\n",
        "\n"
      ],
      "metadata": {
        "id": "kXBRrS8E-fgQ"
      }
    },
    {
      "cell_type": "markdown",
      "source": [
        "From Basic to Best Model\n",
        "1. Basic Neural Network\n",
        "Started with a simple fully connected neural network (MLP).\n",
        "\n",
        "Observed limitations in accuracy and overfitting.\n",
        "\n",
        "Achieved accuracy was around 92% on test data.\n",
        "\n",
        "2. Deep Neural Network (DNN)\n",
        "Improvements included:\n",
        "\n",
        " -Batch Normalization\n",
        "\n",
        " -Dropout layers for regularization\n",
        "\n",
        " -He Initialization for better weight scaling\n",
        "\n",
        " -Learning Rate Scheduling (e.g., ReduceLROnPlateau)\n",
        "\n",
        " -Early Stopping to prevent overfitting\n",
        "\n",
        "Test Accuracy:\n",
        "\n",
        " -Around 89.83% on Fashion MNIST\n",
        "\n",
        " -Around 98.18% on MNIST Digits\n",
        "\n",
        "3. Convolutional Neural Network (CNN)\n",
        "Upgraded architecture for image-specific tasks:\n",
        "\n",
        " -Convolutional and Pooling layers to extract spatial features\n",
        "\n",
        " -Batch Normalization and Dropout for stability and regularization\n",
        "\n",
        " -Data Augmentation: rotation, zoom, width/height shift\n",
        "\n",
        " -Trained using callbacks for adaptive learning and early stopping\n",
        "\n",
        "Test Accuracy:\n",
        "\n",
        " -Achieved 99.58% on MNIST Digits\n",
        "\n"
      ],
      "metadata": {
        "id": "oBNUhL7S-lNP"
      }
    },
    {
      "cell_type": "code",
      "source": [],
      "metadata": {
        "id": "P27lvksk-Zji"
      },
      "execution_count": null,
      "outputs": []
    }
  ],
  "metadata": {
    "colab": {
      "provenance": []
    },
    "kernelspec": {
      "display_name": "Python 3",
      "name": "python3"
    },
    "language_info": {
      "name": "python"
    }
  },
  "nbformat": 4,
  "nbformat_minor": 0
}